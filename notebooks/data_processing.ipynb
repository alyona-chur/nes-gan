{
 "cells": [
  {
   "cell_type": "markdown",
   "id": "04edf882",
   "metadata": {},
   "source": [
    "# Data Processing\n",
    "Transform data from SEPRSCO Format to Piano Roll-like (matrix)."
   ]
  },
  {
   "cell_type": "code",
   "execution_count": null,
   "id": "053478e3",
   "metadata": {},
   "outputs": [],
   "source": [
    "import os\n",
    "from pathlib import Path\n",
    "import pickle\n",
    "import sys\n",
    "import subprocess\n",
    "\n",
    "import cv2\n",
    "import matplotlib.pyplot as plt\n",
    "import numpy as np\n",
    "import IPython\n",
    "from tqdm import tqdm\n",
    "\n",
    "ROOT_DIR = os.path.abspath('..')  # ROOT_DIR = Path(__file__).parents[1].resolve()\n",
    "if ROOT_DIR not in sys.path:\n",
    "    sys.path.append(ROOT_DIR)\n",
    "sys.path.append(ROOT_DIR)\n",
    "\n",
    "# TODO: Use importlib.\n",
    "from components.common.configuration import DataProcessorConfiguration\n",
    "from components.common.logger_manager import LoggerManager\n",
    "from components.data_processor.data_processor import DataProcessor\n",
    "from components.data_processor.data_processor import *  # TODO: Import properly.\n",
    "\n",
    "RANDOM_SEED = 13131313\n",
    "np.random.seed(RANDOM_SEED)"
   ]
  },
  {
   "cell_type": "code",
   "execution_count": null,
   "id": "6f4284fe",
   "metadata": {},
   "outputs": [],
   "source": [
    "logger = LoggerManager(None)             \n",
    "config = DataProcessorConfiguration({\n",
    "    'replace_if_exists': False,\n",
    "    'representation': 'roll',\n",
    "    'sample_len': 256,\n",
    "    'cutting_step': 256,\n",
    "    'rows': 8\n",
    "})\n",
    "DATA_DIR = ROOT_DIR / Path('data')"
   ]
  },
  {
   "cell_type": "code",
   "execution_count": null,
   "id": "1376fbde",
   "metadata": {},
   "outputs": [],
   "source": [
    "data_processor = DataProcessor(config, logger)\n",
    "data_processor.download_data(DATA_DIR / Path('nesmdb24_seprsco'))\n",
    "\n",
    "original_data_path = DATA_DIR / Path('nesmdb24_seprsco_train')\n",
    "original_song = read_seprsco_song(original_data_path / Path('297_SkyKid_00_01StartMusicBGMIntroBGM.seprsco.pkl'))\n",
    "print(f'\\n{original_song}')"
   ]
  },
  {
   "cell_type": "code",
   "execution_count": null,
   "id": "5d21875d",
   "metadata": {},
   "outputs": [],
   "source": [
    "scaled_data_path = DATA_DIR / Path('nesmdb24_seprsco_train_scaled')\n",
    "data_processor.scale(original_data_path, scaled_data_path)\n",
    "np.load(scaled_data_path / Path('297_SkyKid_00_01StartMusicBGMIntroBGM.seprsco.npy'))"
   ]
  },
  {
   "cell_type": "code",
   "execution_count": null,
   "id": "f4505cd4",
   "metadata": {},
   "outputs": [],
   "source": [
    "cuts_dir = DATA_DIR / Path('nesmdb24_seprsco_train_cut')\n",
    "data_processor.cut(scaled_data_path, cuts_dir)\n",
    "print(f'Number of samples: {len(list(cuts_dir.iterdir()))}.')\n",
    "\n",
    "song = np.load(cuts_dir / Path('297_SkyKid_00_01StartMusicBGMIntroBGM.seprsco__0.npy'))\n",
    "plt.matshow(song, interpolation='none', aspect='auto')\n",
    "\n",
    "song = np.load(cuts_dir / Path('298_SolarJetman_HuntfortheGoldenWarpship_22_23ShishkebabGameplay.seprsco__10.npy'))\n",
    "plt.matshow(song, interpolation='none', aspect='auto')"
   ]
  },
  {
   "cell_type": "code",
   "execution_count": null,
   "id": "27856a01",
   "metadata": {},
   "outputs": [],
   "source": [
    "train_data_dir = DATA_DIR / Path('nesmdb24_seprsco_train_ready')\n",
    "data_processor.represent(cuts_dir, train_data_dir)\n",
    "\n",
    "song = np.load(train_data_dir / Path('298_SolarJetman_HuntfortheGoldenWarpship_22_23ShishkebabGameplay.seprsco__10.npy'))\n",
    "plt.matshow(song, interpolation='none', aspect='auto')"
   ]
  },
  {
   "cell_type": "markdown",
   "id": "3815986c",
   "metadata": {},
   "source": [
    "## Test"
   ]
  },
  {
   "cell_type": "code",
   "execution_count": null,
   "id": "09ef60d1",
   "metadata": {},
   "outputs": [],
   "source": [
    "back_cuts_dir = DATA_DIR / Path('nesmdb24_seprsco_sampled') / Path('cuts_back')\n",
    "back_dir = DATA_DIR / Path('nesmdb24_seprsco_sampled') / Path('train_back')\n",
    "data_processor.unrepresent(train_data_dir, back_cuts_dir)\n",
    "data_processor.unscale(back_cuts_dir, back_dir)\n",
    "\n",
    "back_song = read_seprsco_song(back_dir / Path('297_SkyKid_00_01StartMusicBGMIntroBGM.seprsco__0.pkl'))\n",
    "print(f'\\n{back_song}')"
   ]
  },
  {
   "cell_type": "code",
   "execution_count": null,
   "id": "2e80ebd4",
   "metadata": {},
   "outputs": [],
   "source": [
    "np.testing.assert_array_equal(original_song[:, :256], back_song)"
   ]
  },
  {
   "cell_type": "markdown",
   "id": "d2d756aa",
   "metadata": {},
   "source": [
    "---\n",
    "# SEPRSCO Dataset Research"
   ]
  },
  {
   "cell_type": "code",
   "execution_count": null,
   "id": "4f7997b5",
   "metadata": {},
   "outputs": [],
   "source": [
    "HIST_RANGE = 108\n",
    "\n",
    "cnt, mins, mins_ex_zero, mean_sums, maxs = 0, np.array([255, 255, 255, 255], dtype='uint8'), \\\n",
    "    np.array([255, 255, 255, 255], dtype='uint8'), np.array([0.0, 0.0, 0.0, 0.0], dtype='float64'), \\\n",
    "    np.array([0, 0, 0, 0], dtype='uint8')\n",
    "bins, hists = np.arange(HIST_RANGE + 1), [np.zeros([HIST_RANGE,]) for _ in range(4)]\n",
    "\n",
    "for file in (DATA_DIR / Path('nesmdb24_seprsco') / Path('train')).iterdir():\n",
    "    with open(file, 'rb') as f:\n",
    "        rate, nsamps, seprsco = pickle.load(f)\n",
    "\n",
    "        mins = np.minimum(mins, seprsco.min(axis=0))\n",
    "        mean_sums += seprsco.mean(axis=0)\n",
    "        maxs = np.maximum(maxs, seprsco.max(axis=0))\n",
    "        cnt += 1\n",
    "\n",
    "        for hi in range(4):\n",
    "            hists[hi] += np.histogram(seprsco[:, hi], bins=bins)[0]\n",
    "\n",
    "        seprsco[seprsco == 0] = 255\n",
    "        mins_ex_zero = np.minimum(mins_ex_zero, seprsco.min(axis=0))\n",
    "\n",
    "print(f'Number of samples: {cnt}.')\n",
    "print(f'Min values: {mins}.')\n",
    "print(f'Non-zero min values: {mins_ex_zero}.')\n",
    "print(f'Mean values: {mean_sums / cnt}.')\n",
    "print(f'Max values: {maxs}.')"
   ]
  },
  {
   "cell_type": "code",
   "execution_count": null,
   "id": "c55b02dd",
   "metadata": {},
   "outputs": [],
   "source": [
    "plt.figure()\n",
    "\n",
    "fig, axs = plt.subplots(nrows=2, ncols=2, figsize=(12, 10))\n",
    "\n",
    "x = np.arange(HIST_RANGE)\n",
    "axs[0][0].bar(x, hists[0])\n",
    "axs[0][1].bar(x, hists[1])\n",
    "axs[1][0].bar(x, hists[2])\n",
    "axs[1][1].bar(x, hists[3])\n",
    "\n",
    "for i in range(2):\n",
    "    for j in range(2):\n",
    "        axs[i][j].grid()"
   ]
  },
  {
   "cell_type": "markdown",
   "id": "c26fcf57",
   "metadata": {},
   "source": [
    "**Instruments [[NESMDB README](https://github.com/chrisdonahue/nesmdb#nes-synthesizer-primer)]:**\n",
    "\n",
    "- Pulse 1 (P1): {0, 32, ..., 108}\n",
    "\n",
    "- Pulse 2 (P2): {0, 32, ..., 108}\n",
    "\n",
    "- Triangle (TR): {0, 21, ..., 108}\n",
    "\n",
    "- Noise (NO): {0, 1, ... 16}\n",
    "\n",
    "\n",
    "\n",
    "- [ ] Consider step in scaling."
   ]
  }
 ],
 "metadata": {
  "kernelspec": {
   "display_name": "Python 3 (ipykernel)",
   "language": "python",
   "name": "python3"
  },
  "language_info": {
   "codemirror_mode": {
    "name": "ipython",
    "version": 3
   },
   "file_extension": ".py",
   "mimetype": "text/x-python",
   "name": "python",
   "nbconvert_exporter": "python",
   "pygments_lexer": "ipython3",
   "version": "3.8.10"
  }
 },
 "nbformat": 4,
 "nbformat_minor": 5
}
