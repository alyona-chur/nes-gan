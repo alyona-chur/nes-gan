{
 "cells": [
  {
   "cell_type": "code",
   "execution_count": 1,
   "id": "6fdaa373",
   "metadata": {},
   "outputs": [],
   "source": [
    "import os\n",
    "from pathlib import Path\n",
    "import sys\n",
    "\n",
    "import librosa\n",
    "from matplotlib import colors\n",
    "import matplotlib.pyplot as plt\n",
    "%matplotlib inline\n",
    "import numpy as np\n",
    "import IPython.display as ipd\n",
    "\n",
    "from tqdm.notebook import tqdm"
   ]
  },
  {
   "cell_type": "code",
   "execution_count": null,
   "id": "656fe25a",
   "metadata": {},
   "outputs": [],
   "source": []
  },
  {
   "cell_type": "markdown",
   "id": "6474724a",
   "metadata": {},
   "source": [
    "---\n",
    "# Draft"
   ]
  },
  {
   "cell_type": "code",
   "execution_count": null,
   "id": "7494548f",
   "metadata": {},
   "outputs": [],
   "source": [
    "RANDOM_SEED = 13131313\n",
    "np.random.seed(RANDOM_SEED)\n",
    "\n",
    "ROOT_DIR = os.path.abspath('..')  # ROOT_DIR = Path(__file__).parents[1].resolve()\n",
    "if ROOT_DIR not in sys.path:\n",
    "    sys.path.append(ROOT_DIR)\n",
    "RESEARCH_DIR = ROOT_DIR / Path('researches')\n",
    "\n",
    "TRAIN_DATA_PATH = ROOT_DIR / Path('data/processed_train_data_rol_len256_rows8/binary')"
   ]
  },
  {
   "cell_type": "markdown",
   "id": "8923af76",
   "metadata": {},
   "source": [
    "The idea is to transform audio to image-like data and use DCGAN.\n",
    "\n",
    "To use GAN or DCGAN audio needs to be processed. It was tested that converting to Mel-Spectrogram and backward works really bad with NES melodies. So Separated Score Format was chosen."
   ]
  },
  {
   "cell_type": "code",
   "execution_count": null,
   "id": "77e94cc9",
   "metadata": {},
   "outputs": [],
   "source": [
    "SAMPLE_LEN = 64  # 128 = 4-5sec\n",
    "ROWS_CNT = 4"
   ]
  },
  {
   "cell_type": "code",
   "execution_count": null,
   "id": "5c037ad6",
   "metadata": {},
   "outputs": [],
   "source": [
    "# TODO: Data Generator!\n",
    "\n",
    "train_data = []\n",
    "for file in tqdm(TRAIN_DATA_PATH.iterdir()):\n",
    "    train_data.append(np.load(file))\n",
    "\n",
    "len(train_data), train_data[0].shape"
   ]
  },
  {
   "cell_type": "code",
   "execution_count": null,
   "id": "736d6568",
   "metadata": {},
   "outputs": [],
   "source": [
    "BUFFER_SIZE = 60000\n",
    "BATCH_SIZE = 256\n",
    "\n",
    "NOISE_VECTOR_LEN = 100\n",
    "# Data Shape: (32, 32, 1)\n",
    "\n",
    "train_dataset = tf.data.Dataset.from_tensor_slices(train_data).shuffle(BUFFER_SIZE).batch(BATCH_SIZE)"
   ]
  },
  {
   "cell_type": "code",
   "execution_count": null,
   "id": "28b3a2ad",
   "metadata": {},
   "outputs": [],
   "source": [
    "def make_generator_model():\n",
    "    model = tf.keras.Sequential()\n",
    "    model.add(layers.Dense(8*8*256, use_bias=False, input_shape=(NOISE_VECTOR_LEN,)))\n",
    "    model.add(layers.BatchNormalization())\n",
    "    model.add(layers.LeakyReLU())\n",
    "\n",
    "    model.add(layers.Reshape((8, 8, 256)))\n",
    "    assert model.output_shape == (None, 8, 8, 256)  # Note: None is the batch size\n",
    "    # 7, 7, 256 - 8, 8, 256\n",
    "\n",
    "    model.add(layers.Conv2DTranspose(128, (5, 5), strides=(1, 1), padding='same', use_bias=False))\n",
    "    assert model.output_shape == (None, 8, 8, 128)  # 7, 7, 128 - 8, 8, 128\n",
    "    model.add(layers.BatchNormalization())\n",
    "    model.add(layers.LeakyReLU())\n",
    "\n",
    "    model.add(layers.Conv2DTranspose(64, (5, 5), strides=(2, 2), padding='same', use_bias=False))\n",
    "    assert model.output_shape == (None, 16, 16, 64) # 14, 14, 64 - 16, 16, 64\n",
    "    model.add(layers.BatchNormalization())\n",
    "    model.add(layers.LeakyReLU())\n",
    "\n",
    "    model.add(layers.Conv2DTranspose(1, (5, 5), strides=(2, 2), padding='same', use_bias=False, activation='tanh'))\n",
    "    assert model.output_shape == (None, 32, 32, 1)  # 28, 28, 1 - 32, 32, 1\n",
    "\n",
    "    return model"
   ]
  },
  {
   "cell_type": "code",
   "execution_count": null,
   "id": "b7fc32f5",
   "metadata": {},
   "outputs": [],
   "source": [
    "generator = make_generator_model()\n",
    "\n",
    "noise = tf.random.normal([1, NOISE_VECTOR_LEN])\n",
    "generated_image = generator(noise, training=False)\n",
    "\n",
    "plt.imshow(generated_image[0, :, :, 0])"
   ]
  },
  {
   "cell_type": "code",
   "execution_count": null,
   "id": "774c287c",
   "metadata": {},
   "outputs": [],
   "source": [
    "import glob\n",
    "import imageio\n",
    "import matplotlib.pyplot as plt\n",
    "import numpy as np\n",
    "import os\n",
    "import PIL\n",
    "from tensorflow.keras import layers\n",
    "import time\n",
    "\n",
    "from IPython import display"
   ]
  },
  {
   "cell_type": "code",
   "execution_count": null,
   "id": "23710706",
   "metadata": {},
   "outputs": [],
   "source": [
    "def make_discriminator_model():\n",
    "    model = tf.keras.Sequential()\n",
    "    model.add(layers.Conv2D(64, (5, 5), strides=(2, 2), padding='same', input_shape=[32, 32, 1]))\n",
    "    model.add(layers.LeakyReLU())\n",
    "    model.add(layers.Dropout(0.3))\n",
    "\n",
    "    model.add(layers.Conv2D(128, (5, 5), strides=(2, 2), padding='same'))\n",
    "    model.add(layers.LeakyReLU())\n",
    "    model.add(layers.Dropout(0.3))\n",
    "\n",
    "    model.add(layers.Flatten())\n",
    "    model.add(layers.Dense(1))\n",
    "\n",
    "    return model\n",
    "\n",
    "discriminator = make_discriminator_model()\n",
    "decision = discriminator(generated_image)\n",
    "print (decision)"
   ]
  },
  {
   "cell_type": "code",
   "execution_count": null,
   "id": "5e9c9915",
   "metadata": {},
   "outputs": [],
   "source": [
    "# This method returns a helper function to compute cross entropy loss\n",
    "cross_entropy = tf.keras.losses.BinaryCrossentropy(from_logits=True)\n",
    "\n",
    "def discriminator_loss(real_output, fake_output):\n",
    "    real_loss = cross_entropy(tf.ones_like(real_output), real_output)\n",
    "    fake_loss = cross_entropy(tf.zeros_like(fake_output), fake_output)\n",
    "    total_loss = real_loss + fake_loss\n",
    "    return total_loss\n",
    "\n",
    "\n",
    "def generator_loss(fake_output):\n",
    "    return cross_entropy(tf.ones_like(fake_output), fake_output)\n",
    "\n",
    "\n",
    "generator_optimizer = tf.keras.optimizers.Adam(1e-4)\n",
    "discriminator_optimizer = tf.keras.optimizers.Adam(1e-4)\n",
    "\n",
    "\n",
    "checkpoint_dir = './training_checkpoints'\n",
    "checkpoint_prefix = os.path.join(checkpoint_dir, \"ckpt\")\n",
    "checkpoint = tf.train.Checkpoint(generator_optimizer=generator_optimizer,\n",
    "                                 discriminator_optimizer=discriminator_optimizer,\n",
    "                                 generator=generator,\n",
    "                                 discriminator=discriminator)"
   ]
  },
  {
   "cell_type": "code",
   "execution_count": null,
   "id": "57691493",
   "metadata": {},
   "outputs": [],
   "source": [
    "EPOCHS = 1 # 50\n",
    "noise_dim = NOISE_VECTOR_LEN\n",
    "num_examples_to_generate = 16\n",
    "\n",
    "# You will reuse this seed overtime (so it's easier)\n",
    "# to visualize progress in the animated GIF)\n",
    "seed = tf.random.normal([num_examples_to_generate, noise_dim])\n",
    "\n",
    "\n",
    "# Notice the use of `tf.function`\n",
    "# This annotation causes the function to be \"compiled\".\n",
    "@tf.function\n",
    "def train_step(images):\n",
    "    noise = tf.random.normal([BATCH_SIZE, noise_dim])\n",
    "\n",
    "    with tf.GradientTape() as gen_tape, tf.GradientTape() as disc_tape:\n",
    "        generated_images = generator(noise, training=True)\n",
    "        \n",
    "        real_output = discriminator(images, training=True)\n",
    "        fake_output = discriminator(generated_images, training=True)\n",
    "\n",
    "        gen_loss = generator_loss(fake_output)\n",
    "        disc_loss = discriminator_loss(real_output, fake_output)\n",
    "\n",
    "    gradients_of_generator = gen_tape.gradient(gen_loss, generator.trainable_variables)\n",
    "    gradients_of_discriminator = disc_tape.gradient(disc_loss, discriminator.trainable_variables)\n",
    "\n",
    "    generator_optimizer.apply_gradients(zip(gradients_of_generator, generator.trainable_variables))\n",
    "    discriminator_optimizer.apply_gradients(zip(gradients_of_discriminator, discriminator.trainable_variables))"
   ]
  },
  {
   "cell_type": "code",
   "execution_count": null,
   "id": "fd5803df",
   "metadata": {},
   "outputs": [],
   "source": [
    "def train(dataset, epochs):\n",
    "    for epoch in range(epochs):\n",
    "        start = time.time()\n",
    "\n",
    "    for image_batch in dataset:\n",
    "        train_step(image_batch)\n",
    "\n",
    "    # Produce images for the GIF as you go\n",
    "    display.clear_output(wait=True)\n",
    "    generate_and_save_images(generator,\n",
    "                             epoch + 1,\n",
    "                             seed)\n",
    "\n",
    "    # Save the model every 15 epochs\n",
    "    if (epoch + 1) % 15 == 0:\n",
    "        checkpoint.save(file_prefix = checkpoint_prefix)\n",
    "\n",
    "    print ('Time for epoch {} is {} sec'.format(epoch + 1, time.time()-start))\n",
    "\n",
    "    # Generate after the final epoch\n",
    "    display.clear_output(wait=True)\n",
    "    generate_and_save_images(generator,\n",
    "                           epochs,\n",
    "                           seed)\n",
    "\n",
    "def generate_and_save_images(model, epoch, test_input):\n",
    "  # Notice `training` is set to False.\n",
    "  # This is so all layers run in inference mode (batchnorm).\n",
    "\n",
    "    predictions = model(test_input, training=False)\n",
    "\n",
    "    fig = plt.figure(figsize=(4, 4))\n",
    "\n",
    "    for i in range(predictions.shape[0]):\n",
    "        plt.subplot(4, 4, i+1)\n",
    "        plt.imshow(predictions[i, :, :, 0] * 127.5 + 127.5, cmap='gray')\n",
    "        plt.axis('off')\n",
    "\n",
    "    plt.savefig('image_at_epoch_{:04d}.png'.format(epoch))\n",
    "    plt.show()"
   ]
  },
  {
   "cell_type": "code",
   "execution_count": null,
   "id": "9bfe0141",
   "metadata": {},
   "outputs": [],
   "source": [
    "train(train_dataset, EPOCHS)"
   ]
  },
  {
   "cell_type": "code",
   "execution_count": null,
   "id": "94871f3f",
   "metadata": {},
   "outputs": [],
   "source": [
    "checkpoint.restore(tf.train.latest_checkpoint(checkpoint_dir))"
   ]
  },
  {
   "cell_type": "code",
   "execution_count": null,
   "id": "f921a7b7",
   "metadata": {},
   "outputs": [],
   "source": [
    "# Display a single image using the epoch number\n",
    "def display_image(epoch_no):\n",
    "    return PIL.Image.open('image_at_epoch_{:04d}.png'.format(epoch_no))\n",
    "\n",
    "display_image(EPOCHS)"
   ]
  },
  {
   "cell_type": "markdown",
   "id": "8303127b",
   "metadata": {},
   "source": [
    "---"
   ]
  },
  {
   "cell_type": "markdown",
   "id": "92d9c27e",
   "metadata": {},
   "source": [
    "# Generator"
   ]
  },
  {
   "cell_type": "code",
   "execution_count": null,
   "id": "94db0d0c",
   "metadata": {},
   "outputs": [],
   "source": [
    "# generator = Sequential()\n",
    "\n",
    "# # Dense\n",
    "# generator.add(Dense(32 * 1 * 256, input_dim=NOISE_INPUT_DIM))\n",
    "# generator.add(BatchNormalization(momentum=BATCH_NORMALIZATION_MOMENTUM))\n",
    "# generator.add(Activation('relu'))\n",
    "# generator.add(Reshape((32, 1, 256)))\n",
    "# generator.add(Dropout(DROPOUT))\n",
    "# # 32 * 1 * 256\n",
    "\n",
    "# # Upsampling (instead of fractionally-strided convolution) and transposed convolution 1\n",
    "# generator.add(UpSampling2D())\n",
    "# generator.add(Conv2DTranspose(128, KERNEL_SIZE, padding='same'))\n",
    "# generator.add(BatchNormalization(momentum=BATCH_NORMALIZATION_MOMENTUM))\n",
    "# generator.add(Activation('relu'))\n",
    "# # 64 * 2 * 128\n",
    "\n",
    "# # Upsampling (instead of fractionally-strided convolution) and transposed convolution 2\n",
    "# generator.add(UpSampling2D())\n",
    "# generator.add(Conv2DTranspose(64, KERNEL_SIZE, padding='same'))\n",
    "# generator.add(BatchNormalization(momentum=BATCH_NORMALIZATION_MOMENTUM))\n",
    "# generator.add(Activation('relu'))\n",
    "# # 128 * 4 * 64\n",
    "\n",
    "# # Upsampling (instead of fractionally-strided convolution) and transposed convolution 3\n",
    "# generator.add(Conv2DTranspose(1, KERNEL_SIZE, padding='same'))\n",
    "# generator.add(BatchNormalization(momentum=BATCH_NORMALIZATION_MOMENTUM))\n",
    "# generator.add(Activation('relu'))\n",
    "# # 128 * 4 * 32\n",
    "\n",
    "# generator.add(Conv2DTranspose(1, KERNEL_SIZE, padding='same'))\n",
    "# generator.add(Activation('sigmoid'))\n",
    "# # 128 * 4 * 1\n",
    "\n",
    "# generator.summary()"
   ]
  },
  {
   "cell_type": "markdown",
   "id": "f4d9b764",
   "metadata": {},
   "source": [
    "# Discriminator"
   ]
  },
  {
   "cell_type": "code",
   "execution_count": null,
   "id": "2a28bde6",
   "metadata": {},
   "outputs": [],
   "source": [
    "# discriminator = Sequential()\n",
    "# input_shape = (SAMPLE_LEN, SAMPLE_WIDTH, 1)\n",
    "\n",
    "# discriminator.add(Conv2D(64, KERNEL_SIZE, strides=2, input_shape=input_shape,\n",
    "#                          padding='same', activation=LeakyReLU(alpha=LEAKY_ALPHA)))\n",
    "# discriminator.add(Dropout(DROPOUT))\n",
    "# discriminator.add(Conv2D(128, KERNEL_SIZE, strides=2, padding='same', activation=LeakyReLU(alpha=LEAKY_ALPHA)))\n",
    "# discriminator.add(Dropout(DROPOUT))\n",
    "# discriminator.add(Conv2D(256, KERNEL_SIZE, strides=2, padding='same', activation=LeakyReLU(alpha=LEAKY_ALPHA)))\n",
    "# discriminator.add(Dropout(DROPOUT))\n",
    "# discriminator.add(Conv2D(512, KERNEL_SIZE, strides=1, padding='same', activation=LeakyReLU(alpha=LEAKY_ALPHA)))\n",
    "# discriminator.add(Dropout(DROPOUT))\n",
    "\n",
    "# discriminator.add(Flatten())\n",
    "# discriminator.add(Dense(1))\n",
    "# discriminator.add(Activation('sigmoid'))\n",
    "# discriminator.summary()"
   ]
  },
  {
   "cell_type": "markdown",
   "id": "7c24773a",
   "metadata": {},
   "source": [
    "# Discriminator Model"
   ]
  },
  {
   "cell_type": "code",
   "execution_count": null,
   "id": "89df927d",
   "metadata": {},
   "outputs": [],
   "source": [
    "# discriminator_model= Sequential()\n",
    "# discriminator_model.add(discriminator)\n",
    "# discriminator_model.compile(loss='binary_crossentropy',\n",
    "#                             optimizer=RMSprop(lr=D_LEARNING_RATE, clipvalue=1.0, decay=6e-8),metrics=['accuracy'])"
   ]
  },
  {
   "cell_type": "markdown",
   "id": "cb7b23a6",
   "metadata": {},
   "source": [
    "# Adversarial Model"
   ]
  },
  {
   "cell_type": "code",
   "execution_count": null,
   "id": "2f3b1275",
   "metadata": {},
   "outputs": [],
   "source": [
    "# adversarial_model = Sequential()\n",
    "# adversarial_model.add(generator)\n",
    "# adversarial_model.add(discriminator)\n",
    "# adversarial_model.compile(loss='binary_crossentropy',\n",
    "#                           optimizer=RMSprop(lr=A_LEARNING_RATE, clipvalue=1.0, decay=3e-8), metrics=['accuracy'])"
   ]
  },
  {
   "cell_type": "markdown",
   "id": "3c007bd4",
   "metadata": {},
   "source": [
    "---\n",
    "\n",
    "# Training"
   ]
  },
  {
   "cell_type": "markdown",
   "id": "23b08faf",
   "metadata": {},
   "source": [
    "https://www.tensorflow.org/tutorials/generative/dcgan\n",
    "\n",
    "https://tfs.rubius.com/RubiusProjects/Polyphemus/_git/cyclop-server?path=%2Fcomponents%2Fsiamese_network%2Ftrain_model.py\n",
    "\n",
    "---\n",
    "\n",
    "https://www.tensorflow.org/tutorials/customization/custom_training_walkthrough\n",
    "\n",
    "https://www.tensorflow.org/guide/keras/writing_a_training_loop_from_scratch\n",
    "\n",
    "https://www.tensorflow.org/guide/keras/custom_callback"
   ]
  },
  {
   "cell_type": "code",
   "execution_count": null,
   "id": "d0648fb0",
   "metadata": {},
   "outputs": [],
   "source": [
    "# class "
   ]
  }
 ],
 "metadata": {
  "kernelspec": {
   "display_name": "Python 3",
   "language": "python",
   "name": "python3"
  },
  "language_info": {
   "codemirror_mode": {
    "name": "ipython",
    "version": 3
   },
   "file_extension": ".py",
   "mimetype": "text/x-python",
   "name": "python",
   "nbconvert_exporter": "python",
   "pygments_lexer": "ipython3",
   "version": "3.6.9"
  }
 },
 "nbformat": 4,
 "nbformat_minor": 5
}
